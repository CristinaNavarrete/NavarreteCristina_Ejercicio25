{
 "cells": [
  {
   "cell_type": "code",
   "execution_count": 51,
   "metadata": {},
   "outputs": [],
   "source": [
    "import numpy as np\n",
    "import matplotlib.pyplot as plt\n",
    "import sklearn.datasets\n",
    "import sklearn.preprocessing\n",
    "import sklearn.neural_network\n",
    "import sklearn.model_selection\n",
    "\n",
    "\n",
    "import pandas as pd # data processing, CSV file I/O (e.g. pd.read_csv)\n",
    "\n",
    "\n",
    "\n",
    "import time\n",
    "start_time = time.time()"
   ]
  },
  {
   "cell_type": "code",
   "execution_count": 52,
   "metadata": {},
   "outputs": [],
   "source": [
    "#df1 = pd.read_csv('roboBohr1.csv')\n",
    "df2 = pd.read_csv('roboBohr1_1.csv')\n",
    "df3 = pd.read_csv('roboBohr2.csv')\n",
    "df4 = pd.read_csv('roboBohr2_2.csv')"
   ]
  },
  {
   "cell_type": "code",
   "execution_count": 53,
   "metadata": {},
   "outputs": [
    {
     "name": "stdout",
     "output_type": "stream",
     "text": [
      "El num de filas y columnas: (12140, 1278)\n"
     ]
    }
   ],
   "source": [
    "df=pd.concat([df2, df3, df4], ignore_index=True)\n",
    "print('El num de filas y columnas: '+str(df.shape))"
   ]
  },
  {
   "cell_type": "markdown",
   "metadata": {},
   "source": [
    "# Para poner un target en clases y no tener un modelo de regresión sino convertirlo en uno de clasificación vamos a establecer clases dependiendo del valor de la energía de atomización \n",
    "\n",
    "Esto es porque para diferentes materiales, la energía de atomización por ejemplo para algunos fluoruros se encuentra entre 5- 8eV y algunos Óxidos-Cr se encuentran en valores superiores como 6-11eV https://www.sciencedirect.com/topics/engineering/atomisation-energy.\n",
    "\n",
    "Sería interesante buscar más materiales y no realizar el cálculo de su energía de atomización sino saber qué tipo de material será."
   ]
  },
  {
   "cell_type": "code",
   "execution_count": 54,
   "metadata": {},
   "outputs": [
    {
     "name": "stdout",
     "output_type": "stream",
     "text": [
      "[-23.2453726199999, -20.999788715027442, -18.75420256446884, -16.508616413910232, -14.263030263351629, -12.017444112793024, -9.77185796223442, -7.526271811675816, -5.280685661117211, -3.035099510558606, -0.7895133600000008]\n"
     ]
    }
   ],
   "source": [
    "#Creación del vector. La resolución que tiene el valor del traget es de 6 cifras decimales por ello,\n",
    "#tomaremos la cantidad de puntos similares 10000000\n",
    "E_at=np.linspace(df.Eat.min(), df.Eat.max(), num=10000000)\n",
    "\n",
    "#n_class es la cantidad de clases que vamos a tener para clasificar\n",
    "n_class=10  \n",
    "\n",
    "cantidad=int(len(E_at)/(n_class))\n",
    "v_min=df.Eat.min()\n",
    "v_max=df.Eat.max()\n",
    "#El vector de definición de rango de las clases\n",
    "E_at_limits=[]\n",
    "E_at_limits.append(v_min)\n",
    "for i in range(n_class):\n",
    "    E_at_limits.append(E_at[cantidad*(i+1)-1])\n",
    "print(E_at_limits)\n",
    "\n",
    "#Ahora vamos a crear el vector target de las clases \n",
    "n_filas=df.shape[0]\n",
    "E_target=np.ones(n_filas)\n",
    "for i in range(n_filas):\n",
    "    inst=df.Eat[i]\n",
    "    for j in range(n_class-1):\n",
    "        if inst>=round(E_at_limits[j],6) and inst<round(E_at_limits[j+1],6):\n",
    "            E_target[i]=int(j)\n",
    "    if inst>=round(E_at_limits[n_class-1],6) and inst<round(E_at_limits[n_class],6):\n",
    "        E_target[i]=int(n_class-1)"
   ]
  },
  {
   "cell_type": "code",
   "execution_count": 55,
   "metadata": {},
   "outputs": [],
   "source": [
    "#Eliminando la col Y numérica \n",
    "Y=df['Eat']\n",
    "df = df.drop(['Eat'], axis = 1)\n",
    "\n",
    "import sklearn.datasets as skdata\n",
    "from sklearn.datasets import fetch_openml\n",
    "from sklearn.linear_model import LogisticRegression\n",
    "from sklearn.model_selection import train_test_split\n",
    "from sklearn.preprocessing import StandardScaler\n",
    "from sklearn.utils import check_random_state\n",
    "\n",
    "%matplotlib inline"
   ]
  },
  {
   "cell_type": "code",
   "execution_count": 56,
   "metadata": {},
   "outputs": [],
   "source": [
    "x_train, x_test, y_train, y_test = train_test_split(df, E_target, test_size=0.5)\n",
    "\n",
    "t0 = time.time() #Estos parámetros son con los pasos que tomará para convergencia por descenso de gradiente que es como funciona la regresión logística\n",
    "train_samples = 200\n",
    "\n",
    "scaler = StandardScaler() #Normalizar los datos\n",
    "x_train = scaler.fit_transform(x_train)\n",
    "x_test = scaler.transform(x_test)"
   ]
  },
  {
   "cell_type": "markdown",
   "metadata": {},
   "source": [
    "# Experimento 1: Softmax"
   ]
  },
  {
   "cell_type": "code",
   "execution_count": 57,
   "metadata": {},
   "outputs": [],
   "source": [
    "from sklearn.metrics import f1_score\n",
    "\n",
    "mlp = sklearn.neural_network.MLPClassifier(activation='logistic', hidden_layer_sizes=(4,4,4),max_iter=2000)"
   ]
  },
  {
   "cell_type": "code",
   "execution_count": 58,
   "metadata": {},
   "outputs": [
    {
     "name": "stderr",
     "output_type": "stream",
     "text": [
      "C:\\Users\\ASUS X509L\\Anaconda3\\lib\\site-packages\\sklearn\\metrics\\classification.py:1437: UndefinedMetricWarning: F-score is ill-defined and being set to 0.0 in labels with no predicted samples.\n",
      "  'precision', 'predicted', average, warn_for)\n",
      "C:\\Users\\ASUS X509L\\Anaconda3\\lib\\site-packages\\sklearn\\metrics\\classification.py:1437: UndefinedMetricWarning: F-score is ill-defined and being set to 0.0 in labels with no predicted samples.\n",
      "  'precision', 'predicted', average, warn_for)\n",
      "C:\\Users\\ASUS X509L\\Anaconda3\\lib\\site-packages\\sklearn\\metrics\\classification.py:1437: UndefinedMetricWarning: F-score is ill-defined and being set to 0.0 in labels with no predicted samples.\n",
      "  'precision', 'predicted', average, warn_for)\n",
      "C:\\Users\\ASUS X509L\\Anaconda3\\lib\\site-packages\\sklearn\\metrics\\classification.py:1437: UndefinedMetricWarning: F-score is ill-defined and being set to 0.0 in labels with no predicted samples.\n",
      "  'precision', 'predicted', average, warn_for)\n",
      "C:\\Users\\ASUS X509L\\Anaconda3\\lib\\site-packages\\sklearn\\metrics\\classification.py:1437: UndefinedMetricWarning: F-score is ill-defined and being set to 0.0 in labels with no predicted samples.\n",
      "  'precision', 'predicted', average, warn_for)\n",
      "C:\\Users\\ASUS X509L\\Anaconda3\\lib\\site-packages\\sklearn\\metrics\\classification.py:1437: UndefinedMetricWarning: F-score is ill-defined and being set to 0.0 in labels with no predicted samples.\n",
      "  'precision', 'predicted', average, warn_for)\n",
      "C:\\Users\\ASUS X509L\\Anaconda3\\lib\\site-packages\\sklearn\\metrics\\classification.py:1437: UndefinedMetricWarning: F-score is ill-defined and being set to 0.0 in labels with no predicted samples.\n",
      "  'precision', 'predicted', average, warn_for)\n",
      "C:\\Users\\ASUS X509L\\Anaconda3\\lib\\site-packages\\sklearn\\metrics\\classification.py:1437: UndefinedMetricWarning: F-score is ill-defined and being set to 0.0 in labels with no predicted samples.\n",
      "  'precision', 'predicted', average, warn_for)\n",
      "C:\\Users\\ASUS X509L\\Anaconda3\\lib\\site-packages\\sklearn\\metrics\\classification.py:1437: UndefinedMetricWarning: F-score is ill-defined and being set to 0.0 in labels with no predicted samples.\n",
      "  'precision', 'predicted', average, warn_for)\n",
      "C:\\Users\\ASUS X509L\\Anaconda3\\lib\\site-packages\\sklearn\\metrics\\classification.py:1437: UndefinedMetricWarning: F-score is ill-defined and being set to 0.0 in labels with no predicted samples.\n",
      "  'precision', 'predicted', average, warn_for)\n",
      "C:\\Users\\ASUS X509L\\Anaconda3\\lib\\site-packages\\sklearn\\metrics\\classification.py:1437: UndefinedMetricWarning: F-score is ill-defined and being set to 0.0 in labels with no predicted samples.\n",
      "  'precision', 'predicted', average, warn_for)\n",
      "C:\\Users\\ASUS X509L\\Anaconda3\\lib\\site-packages\\sklearn\\metrics\\classification.py:1437: UndefinedMetricWarning: F-score is ill-defined and being set to 0.0 in labels with no predicted samples.\n",
      "  'precision', 'predicted', average, warn_for)\n",
      "C:\\Users\\ASUS X509L\\Anaconda3\\lib\\site-packages\\sklearn\\metrics\\classification.py:1437: UndefinedMetricWarning: F-score is ill-defined and being set to 0.0 in labels with no predicted samples.\n",
      "  'precision', 'predicted', average, warn_for)\n",
      "C:\\Users\\ASUS X509L\\Anaconda3\\lib\\site-packages\\sklearn\\metrics\\classification.py:1437: UndefinedMetricWarning: F-score is ill-defined and being set to 0.0 in labels with no predicted samples.\n",
      "  'precision', 'predicted', average, warn_for)\n",
      "C:\\Users\\ASUS X509L\\Anaconda3\\lib\\site-packages\\sklearn\\metrics\\classification.py:1437: UndefinedMetricWarning: F-score is ill-defined and being set to 0.0 in labels with no predicted samples.\n",
      "  'precision', 'predicted', average, warn_for)\n",
      "C:\\Users\\ASUS X509L\\Anaconda3\\lib\\site-packages\\sklearn\\metrics\\classification.py:1437: UndefinedMetricWarning: F-score is ill-defined and being set to 0.0 in labels with no predicted samples.\n",
      "  'precision', 'predicted', average, warn_for)\n",
      "C:\\Users\\ASUS X509L\\Anaconda3\\lib\\site-packages\\sklearn\\metrics\\classification.py:1437: UndefinedMetricWarning: F-score is ill-defined and being set to 0.0 in labels with no predicted samples.\n",
      "  'precision', 'predicted', average, warn_for)\n",
      "C:\\Users\\ASUS X509L\\Anaconda3\\lib\\site-packages\\sklearn\\metrics\\classification.py:1437: UndefinedMetricWarning: F-score is ill-defined and being set to 0.0 in labels with no predicted samples.\n",
      "  'precision', 'predicted', average, warn_for)\n",
      "C:\\Users\\ASUS X509L\\Anaconda3\\lib\\site-packages\\sklearn\\metrics\\classification.py:1437: UndefinedMetricWarning: F-score is ill-defined and being set to 0.0 in labels with no predicted samples.\n",
      "  'precision', 'predicted', average, warn_for)\n",
      "C:\\Users\\ASUS X509L\\Anaconda3\\lib\\site-packages\\sklearn\\metrics\\classification.py:1437: UndefinedMetricWarning: F-score is ill-defined and being set to 0.0 in labels with no predicted samples.\n",
      "  'precision', 'predicted', average, warn_for)\n"
     ]
    }
   ],
   "source": [
    "F1s_Train=[]\n",
    "F1s_Test=[]\n",
    "for i in range(10):\n",
    "    sub=int(0.1*(i+1)*len(x_train))\n",
    "    sub1=int(0.1*(i+1)*len(x_test))\n",
    "    x_sub_train=x_train[: sub,:]\n",
    "    y_sub_train=y_train[: sub]\n",
    "    x_sub_test=x_test[: sub1,:]\n",
    "    y_sub_test=y_test[: sub1]\n",
    "    \n",
    "    mlp.fit(x_sub_train, y_sub_train)\n",
    "    F1s_Train.append(f1_score(y_sub_train, mlp.predict(x_sub_train), average='macro'))\n",
    "    F1s_Test.append(f1_score(y_sub_test, mlp.predict(x_sub_test), average='macro'))"
   ]
  },
  {
   "cell_type": "code",
   "execution_count": 59,
   "metadata": {},
   "outputs": [
    {
     "data": {
      "text/plain": [
       "<matplotlib.legend.Legend at 0x22d19d5d508>"
      ]
     },
     "execution_count": 59,
     "metadata": {},
     "output_type": "execute_result"
    },
    {
     "data": {
      "image/png": "[encoded data removed]",
      "text/plain": [
       "<Figure size 432x288 with 1 Axes>"
      ]
     },
     "metadata": {
      "needs_background": "light"
     },
     "output_type": "display_data"
    }
   ],
   "source": [
    "x1=[]\n",
    "x2=[]\n",
    "for i in range(10):\n",
    "    x1.append(int(0.1*(i+1)*len(x_train))/(np.shape(x_train)[1]))\n",
    "    x2.append(int(0.1*(i+1)*len(x_test))/(np.shape(x_train)[1]))\n",
    "\n",
    "plt.scatter(x1,F1s_Train,label='Train')\n",
    "plt.scatter(x2,F1s_Test,label='Test')\n",
    "plt.title('F1: SOFTMAX')\n",
    "plt.xlabel('Razon: instancias/atributos')\n",
    "plt.legend()"
   ]
  },
  {
   "cell_type": "markdown",
   "metadata": {},
   "source": [
    "Se observa que el valor de F1 mejora significativamente cuando la razón entre el # de instancias vs # de atributos es mayor a uno lo cual implica que hay más instancias que atributos. EL aumento esta en un 30% sin embargo no es un valor aceptable para F1. Cuando la razón es 3 aproximadamente se obtiene el máximo del F1. Se mantiene lo esperado F1s_Train>F1_Test y muy cercanos."
   ]
  },
  {
   "cell_type": "code",
   "execution_count": 60,
   "metadata": {},
   "outputs": [],
   "source": [
    "from sklearn.metrics import f1_score\n",
    "\n",
    "mlp = sklearn.neural_network.MLPClassifier(activation='relu', hidden_layer_sizes=(4,4,4),max_iter=2000)\n"
   ]
  },
  {
   "cell_type": "code",
   "execution_count": 61,
   "metadata": {},
   "outputs": [
    {
     "name": "stderr",
     "output_type": "stream",
     "text": [
      "C:\\Users\\ASUS X509L\\Anaconda3\\lib\\site-packages\\sklearn\\metrics\\classification.py:1437: UndefinedMetricWarning: F-score is ill-defined and being set to 0.0 in labels with no predicted samples.\n",
      "  'precision', 'predicted', average, warn_for)\n",
      "C:\\Users\\ASUS X509L\\Anaconda3\\lib\\site-packages\\sklearn\\metrics\\classification.py:1437: UndefinedMetricWarning: F-score is ill-defined and being set to 0.0 in labels with no predicted samples.\n",
      "  'precision', 'predicted', average, warn_for)\n",
      "C:\\Users\\ASUS X509L\\Anaconda3\\lib\\site-packages\\sklearn\\metrics\\classification.py:1437: UndefinedMetricWarning: F-score is ill-defined and being set to 0.0 in labels with no predicted samples.\n",
      "  'precision', 'predicted', average, warn_for)\n",
      "C:\\Users\\ASUS X509L\\Anaconda3\\lib\\site-packages\\sklearn\\metrics\\classification.py:1437: UndefinedMetricWarning: F-score is ill-defined and being set to 0.0 in labels with no predicted samples.\n",
      "  'precision', 'predicted', average, warn_for)\n",
      "C:\\Users\\ASUS X509L\\Anaconda3\\lib\\site-packages\\sklearn\\metrics\\classification.py:1437: UndefinedMetricWarning: F-score is ill-defined and being set to 0.0 in labels with no predicted samples.\n",
      "  'precision', 'predicted', average, warn_for)\n",
      "C:\\Users\\ASUS X509L\\Anaconda3\\lib\\site-packages\\sklearn\\metrics\\classification.py:1437: UndefinedMetricWarning: F-score is ill-defined and being set to 0.0 in labels with no predicted samples.\n",
      "  'precision', 'predicted', average, warn_for)\n",
      "C:\\Users\\ASUS X509L\\Anaconda3\\lib\\site-packages\\sklearn\\metrics\\classification.py:1437: UndefinedMetricWarning: F-score is ill-defined and being set to 0.0 in labels with no predicted samples.\n",
      "  'precision', 'predicted', average, warn_for)\n",
      "C:\\Users\\ASUS X509L\\Anaconda3\\lib\\site-packages\\sklearn\\metrics\\classification.py:1437: UndefinedMetricWarning: F-score is ill-defined and being set to 0.0 in labels with no predicted samples.\n",
      "  'precision', 'predicted', average, warn_for)\n",
      "C:\\Users\\ASUS X509L\\Anaconda3\\lib\\site-packages\\sklearn\\metrics\\classification.py:1437: UndefinedMetricWarning: F-score is ill-defined and being set to 0.0 in labels with no predicted samples.\n",
      "  'precision', 'predicted', average, warn_for)\n",
      "C:\\Users\\ASUS X509L\\Anaconda3\\lib\\site-packages\\sklearn\\metrics\\classification.py:1437: UndefinedMetricWarning: F-score is ill-defined and being set to 0.0 in labels with no predicted samples.\n",
      "  'precision', 'predicted', average, warn_for)\n",
      "C:\\Users\\ASUS X509L\\Anaconda3\\lib\\site-packages\\sklearn\\metrics\\classification.py:1437: UndefinedMetricWarning: F-score is ill-defined and being set to 0.0 in labels with no predicted samples.\n",
      "  'precision', 'predicted', average, warn_for)\n",
      "C:\\Users\\ASUS X509L\\Anaconda3\\lib\\site-packages\\sklearn\\metrics\\classification.py:1437: UndefinedMetricWarning: F-score is ill-defined and being set to 0.0 in labels with no predicted samples.\n",
      "  'precision', 'predicted', average, warn_for)\n",
      "C:\\Users\\ASUS X509L\\Anaconda3\\lib\\site-packages\\sklearn\\metrics\\classification.py:1437: UndefinedMetricWarning: F-score is ill-defined and being set to 0.0 in labels with no predicted samples.\n",
      "  'precision', 'predicted', average, warn_for)\n",
      "C:\\Users\\ASUS X509L\\Anaconda3\\lib\\site-packages\\sklearn\\metrics\\classification.py:1437: UndefinedMetricWarning: F-score is ill-defined and being set to 0.0 in labels with no predicted samples.\n",
      "  'precision', 'predicted', average, warn_for)\n",
      "C:\\Users\\ASUS X509L\\Anaconda3\\lib\\site-packages\\sklearn\\metrics\\classification.py:1437: UndefinedMetricWarning: F-score is ill-defined and being set to 0.0 in labels with no predicted samples.\n",
      "  'precision', 'predicted', average, warn_for)\n",
      "C:\\Users\\ASUS X509L\\Anaconda3\\lib\\site-packages\\sklearn\\metrics\\classification.py:1437: UndefinedMetricWarning: F-score is ill-defined and being set to 0.0 in labels with no predicted samples.\n",
      "  'precision', 'predicted', average, warn_for)\n"
     ]
    }
   ],
   "source": [
    "F1s_Train=[]\n",
    "F1s_Test=[]\n",
    "for i in range(10):\n",
    "    sub=int(0.1*(i+1)*len(x_train))\n",
    "    sub1=int(0.1*(i+1)*len(x_test))\n",
    "    x_sub_train=x_train[: sub,:]\n",
    "    y_sub_train=y_train[: sub]\n",
    "    x_sub_test=x_test[: sub1,:]\n",
    "    y_sub_test=y_test[: sub1]\n",
    "    \n",
    "    mlp.fit(x_sub_train, y_sub_train)\n",
    "    F1s_Train.append(f1_score(y_sub_train, mlp.predict(x_sub_train), average='macro'))\n",
    "    F1s_Test.append(f1_score(y_sub_test, mlp.predict(x_sub_test), average='macro'))"
   ]
  },
  {
   "cell_type": "code",
   "execution_count": 62,
   "metadata": {},
   "outputs": [
    {
     "data": {
      "text/plain": [
       "<matplotlib.legend.Legend at 0x22d19f040c8>"
      ]
     },
     "execution_count": 62,
     "metadata": {},
     "output_type": "execute_result"
    },
    {
     "data": {
      "image/png": "[encoded data removed]",
      "text/plain": [
       "<Figure size 432x288 with 1 Axes>"
      ]
     },
     "metadata": {
      "needs_background": "light"
     },
     "output_type": "display_data"
    }
   ],
   "source": [
    "x1=[]\n",
    "x2=[]\n",
    "for i in range(10):\n",
    "    x1.append(int(0.1*(i+1)*len(x_train))/(np.shape(x_train)[1]))\n",
    "    x2.append(int(0.1*(i+1)*len(x_test))/(np.shape(x_train)[1]))\n",
    "\n",
    "plt.scatter(x1,F1s_Train,label='Train')\n",
    "plt.scatter(x2,F1s_Test,label='Test')\n",
    "plt.title('F1: RELU')\n",
    "plt.xlabel('Razon: instancias/atributos')\n",
    "plt.legend()"
   ]
  },
  {
   "cell_type": "markdown",
   "metadata": {},
   "source": [
    "Con la función de activación \"RELU\" se aumentan los valores de F1 tanto para Train y Test.\n",
    "Existen dos picos en la grafica donde los valores F1 Test y Train son dificílmente diferenciables y donde adicionalmente, se presentan valores cercanos de F1.\n",
    "\n",
    "Con los dos experimentos anteriores se puede concluir que la cantidad de instancias sí afecta los valores F1 sin necesidad de ser una relación directamente proporcional entre F1 y razon de #instancias vs #atributos como yo lo pensaba."
   ]
  },
  {
   "cell_type": "markdown",
   "metadata": {},
   "source": [
    "# Experimento 3: Variar alpha"
   ]
  },
  {
   "cell_type": "code",
   "execution_count": 71,
   "metadata": {},
   "outputs": [
    {
     "name": "stderr",
     "output_type": "stream",
     "text": [
      "C:\\Users\\ASUS X509L\\Anaconda3\\lib\\site-packages\\sklearn\\metrics\\classification.py:1437: UndefinedMetricWarning: F-score is ill-defined and being set to 0.0 in labels with no predicted samples.\n",
      "  'precision', 'predicted', average, warn_for)\n",
      "C:\\Users\\ASUS X509L\\Anaconda3\\lib\\site-packages\\sklearn\\metrics\\classification.py:1437: UndefinedMetricWarning: F-score is ill-defined and being set to 0.0 in labels with no predicted samples.\n",
      "  'precision', 'predicted', average, warn_for)\n",
      "C:\\Users\\ASUS X509L\\Anaconda3\\lib\\site-packages\\sklearn\\metrics\\classification.py:1437: UndefinedMetricWarning: F-score is ill-defined and being set to 0.0 in labels with no predicted samples.\n",
      "  'precision', 'predicted', average, warn_for)\n",
      "C:\\Users\\ASUS X509L\\Anaconda3\\lib\\site-packages\\sklearn\\metrics\\classification.py:1437: UndefinedMetricWarning: F-score is ill-defined and being set to 0.0 in labels with no predicted samples.\n",
      "  'precision', 'predicted', average, warn_for)\n",
      "C:\\Users\\ASUS X509L\\Anaconda3\\lib\\site-packages\\sklearn\\metrics\\classification.py:1437: UndefinedMetricWarning: F-score is ill-defined and being set to 0.0 in labels with no predicted samples.\n",
      "  'precision', 'predicted', average, warn_for)\n",
      "C:\\Users\\ASUS X509L\\Anaconda3\\lib\\site-packages\\sklearn\\metrics\\classification.py:1437: UndefinedMetricWarning: F-score is ill-defined and being set to 0.0 in labels with no predicted samples.\n",
      "  'precision', 'predicted', average, warn_for)\n",
      "C:\\Users\\ASUS X509L\\Anaconda3\\lib\\site-packages\\sklearn\\metrics\\classification.py:1437: UndefinedMetricWarning: F-score is ill-defined and being set to 0.0 in labels with no predicted samples.\n",
      "  'precision', 'predicted', average, warn_for)\n",
      "C:\\Users\\ASUS X509L\\Anaconda3\\lib\\site-packages\\sklearn\\metrics\\classification.py:1437: UndefinedMetricWarning: F-score is ill-defined and being set to 0.0 in labels with no predicted samples.\n",
      "  'precision', 'predicted', average, warn_for)\n"
     ]
    }
   ],
   "source": [
    "F1s_Train=[]\n",
    "F1s_Test=[]\n",
    "alphas= np.logspace(-6, 0, num=10)\n",
    "for i in range(len(alphas)):\n",
    "    mlp = sklearn.neural_network.MLPClassifier(activation='relu', hidden_layer_sizes=(4,4,4),max_iter=2000,alpha=alphas[i])\n",
    "    mlp.fit(x_train, y_train)\n",
    "    F1s_Train.append(f1_score(y_train, mlp.predict(x_train), average='macro'))\n",
    "    F1s_Test.append(f1_score(y_test, mlp.predict(x_test), average='macro'))\n"
   ]
  },
  {
   "cell_type": "code",
   "execution_count": 77,
   "metadata": {},
   "outputs": [
    {
     "name": "stdout",
     "output_type": "stream",
     "text": [
      "[1.00000000e-05 5.99484250e-05 3.59381366e-04 2.15443469e-03\n",
      " 1.29154967e-02 7.74263683e-02 4.64158883e-01 2.78255940e+00\n",
      " 1.66810054e+01 1.00000000e+02]\n"
     ]
    },
    {
     "data": {
      "image/png": "[encoded data removed]",
      "text/plain": [
       "<Figure size 720x360 with 1 Axes>"
      ]
     },
     "metadata": {
      "needs_background": "light"
     },
     "output_type": "display_data"
    }
   ],
   "source": [
    "fig=plt.figure(figsize=(10, 5))   \n",
    "\n",
    "ax = fig.add_subplot(1, 1, 1)\n",
    "ax.set_xscale('log')\n",
    "ax.scatter(alphas,F1s_Train, label='Train')\n",
    "ax.scatter(alphas,F1s_Test, label='Test')\n",
    "\n",
    "plt.suptitle('F1s vs Alpha')\n",
    "plt.legend()\n",
    "print(alphas)"
   ]
  },
  {
   "cell_type": "markdown",
   "metadata": {},
   "source": [
    "Se observa que los valores de alpha que maximizan F1 estan en el orden de 10^-4 y 10^-1. Teniendo en cuenta la variación realizada al valor C en el ejercicio de regresión logística este resultado es coherente con lo encontrado. Con esto vemos el orden de magnitud de la regularización necesaria para mantener la razón sesgo varianza al entrenar. \n",
    "También observamos que para ciertos valores el F1_test es mayor, para evitar errores de generalización, se sigue conservando la idea de elegir alphas cuyo F1 en Train sea mayor que en Test."
   ]
  },
  {
   "cell_type": "code",
   "execution_count": null,
   "metadata": {},
   "outputs": [],
   "source": []
  }
 ],
 "metadata": {
  "kernelspec": {
   "display_name": "Python 3",
   "language": "python",
   "name": "python3"
  },
  "language_info": {
   "codemirror_mode": {
    "name": "ipython",
    "version": 3
   },
   "file_extension": ".py",
   "mimetype": "text/x-python",
   "name": "python",
   "nbconvert_exporter": "python",
   "pygments_lexer": "ipython3",
   "version": "3.7.4"
  }
 },
 "nbformat": 4,
 "nbformat_minor": 2
}
